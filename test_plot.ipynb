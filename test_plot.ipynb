{
 "cells": [
  {
   "cell_type": "code",
   "execution_count": 1,
   "metadata": {},
   "outputs": [
    {
     "name": "stderr",
     "output_type": "stream",
     "text": [
      "/localhome/hha160/anaconda3/envs/e2c/lib/python3.8/site-packages/tqdm/auto.py:22: TqdmWarning: IProgress not found. Please update jupyter and ipywidgets. See https://ipywidgets.readthedocs.io/en/stable/user_install.html\n",
      "  from .autonotebook import tqdm as notebook_tqdm\n"
     ]
    }
   ],
   "source": [
    "from tensorboardX import SummaryWriter\n",
    "import matplotlib.pyplot as plt\n",
    "import numpy as np"
   ]
  },
  {
   "cell_type": "code",
   "execution_count": 2,
   "metadata": {},
   "outputs": [
    {
     "data": {
      "image/png": "[encoded data removed]",
      "text/plain": [
       "<Figure size 640x480 with 2 Axes>"
      ]
     },
     "metadata": {},
     "output_type": "display_data"
    }
   ],
   "source": [
    "writer = SummaryWriter('test')\n",
    "fig, ax = plt.subplots(nrows=1, ncols=2)\n",
    "plt.setp(ax, xticks=[], yticks=[])\n",
    "# ax[0].set_ylabel('test', rotation=0,size='large')\n",
    "pad = 5\n",
    "ax[0].annotate('test', xy=(0, 0.5), xytext=(-ax[0].yaxis.labelpad - pad, 0),\n",
    "                xycoords=ax[0].yaxis.label, textcoords='offset points',\n",
    "                size='large', ha='right', va='center')\n",
    "ax[0].imshow(np.random.randn(10,10), cmap='Greys')\n",
    "fig.tight_layout()"
   ]
  },
  {
   "cell_type": "code",
   "execution_count": 36,
   "metadata": {},
   "outputs": [],
   "source": [
    "writer.add_figure('test', fig, 0)"
   ]
  },
  {
   "cell_type": "code",
   "execution_count": null,
   "metadata": {},
   "outputs": [],
   "source": []
  }
 ],
 "metadata": {
  "kernelspec": {
   "display_name": "Python 3.8.15 ('e2c')",
   "language": "python",
   "name": "python3"
  },
  "language_info": {
   "codemirror_mode": {
    "name": "ipython",
    "version": 3
   },
   "file_extension": ".py",
   "mimetype": "text/x-python",
   "name": "python",
   "nbconvert_exporter": "python",
   "pygments_lexer": "ipython3",
   "version": "3.8.15"
  },
  "vscode": {
   "interpreter": {
    "hash": "1ff921ccb319ce6a40dac2c9ed8bf58e1e98289277b82324a1174465a43732f1"
   }
  }
 },
 "nbformat": 4,
 "nbformat_minor": 2
}
